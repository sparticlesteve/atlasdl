{
 "cells": [
  {
   "cell_type": "markdown",
   "metadata": {},
   "source": [
    "# ATLAS RPV CNN Classifier\n",
    "\n",
    "Mostly taken from Michela's Keras implementation here: https://github.com/mickypaganini/susy_rpv/blob/micky/train.py"
   ]
  },
  {
   "cell_type": "code",
   "execution_count": 1,
   "metadata": {},
   "outputs": [
    {
     "name": "stderr",
     "output_type": "stream",
     "text": [
      "Using TensorFlow backend.\n"
     ]
    }
   ],
   "source": [
    "import os\n",
    "\n",
    "import h5py\n",
    "import numpy as np\n",
    "\n",
    "from keras import layers, models, callbacks\n",
    "from keras import backend as K"
   ]
  },
  {
   "cell_type": "markdown",
   "metadata": {},
   "source": [
    "## Global configuration"
   ]
  },
  {
   "cell_type": "code",
   "execution_count": 4,
   "metadata": {},
   "outputs": [],
   "source": [
    "# Data config\n",
    "n_train = 2**16 #412416\n",
    "n_valid = 2**14 #137471\n",
    "n_test = 2**14 #137471"
   ]
  },
  {
   "cell_type": "markdown",
   "metadata": {},
   "source": [
    "## Load the data"
   ]
  },
  {
   "cell_type": "code",
   "execution_count": 5,
   "metadata": {},
   "outputs": [],
   "source": [
    "input_dir = '/global/cscratch1/sd/sfarrell/atlas-rpv-images'"
   ]
  },
  {
   "cell_type": "code",
   "execution_count": 6,
   "metadata": {},
   "outputs": [
    {
     "name": "stdout",
     "output_type": "stream",
     "text": [
      "total 1.8G\r\n",
      "-rw-rw---- 1 sfarrell sfarrell 358M Apr 24 14:32 test.h5\r\n",
      "-rw-rw---- 1 sfarrell sfarrell 1.1G Apr 24 14:32 train.h5\r\n",
      "-rw-rw---- 1 sfarrell sfarrell 358M Apr 24 14:32 val.h5\r\n"
     ]
    }
   ],
   "source": [
    "ls -lh $input_dir"
   ]
  },
  {
   "cell_type": "code",
   "execution_count": 7,
   "metadata": {},
   "outputs": [],
   "source": [
    "def load_file(file, n_samples):\n",
    "    print('Loading file', file)\n",
    "    with h5py.File(file) as f:\n",
    "        data_group = f['all_events']\n",
    "        print('Loading %i/%i events' %\n",
    "              (n_samples, data_group['hist'].shape[0]))\n",
    "        data = data_group['hist'][:n_samples][:,:,:,None]\n",
    "        labels = data_group['y'][:n_samples]\n",
    "        weights = data_group['weight'][:n_samples]\n",
    "    return data, labels, weights"
   ]
  },
  {
   "cell_type": "code",
   "execution_count": 8,
   "metadata": {},
   "outputs": [
    {
     "name": "stdout",
     "output_type": "stream",
     "text": [
      "Loading file /global/cscratch1/sd/sfarrell/atlas-rpv-images/train.h5\n",
      "Loading 65536/412416 events\n",
      "Loading file /global/cscratch1/sd/sfarrell/atlas-rpv-images/val.h5\n",
      "Loading 16384/137471 events\n",
      "Loading file /global/cscratch1/sd/sfarrell/atlas-rpv-images/test.h5\n",
      "Loading 16384/137471 events\n",
      "CPU times: user 18.7 s, sys: 1.32 s, total: 20 s\n",
      "Wall time: 19.8 s\n"
     ]
    }
   ],
   "source": [
    "%%time\n",
    "\n",
    "train_file = os.path.join(input_dir, 'train.h5')\n",
    "valid_file = os.path.join(input_dir, 'val.h5')\n",
    "test_file = os.path.join(input_dir, 'test.h5')\n",
    "\n",
    "train_input, train_labels, train_weights = load_file(train_file, n_train)\n",
    "valid_input, valid_labels, valid_weights = load_file(valid_file, n_valid)\n",
    "test_input, test_labels, test_weights = load_file(test_file, n_test)"
   ]
  },
  {
   "cell_type": "code",
   "execution_count": 9,
   "metadata": {},
   "outputs": [
    {
     "name": "stdout",
     "output_type": "stream",
     "text": [
      "train shape: (65536, 64, 64, 1)\n",
      "valid shape: (16384, 64, 64, 1)\n",
      "test shape:  (16384, 64, 64, 1)\n"
     ]
    }
   ],
   "source": [
    "print('train shape:', train_input.shape)\n",
    "print('valid shape:', valid_input.shape)\n",
    "print('test shape: ', test_input.shape)"
   ]
  },
  {
   "cell_type": "markdown",
   "metadata": {},
   "source": [
    "## Define the model"
   ]
  },
  {
   "cell_type": "code",
   "execution_count": 10,
   "metadata": {},
   "outputs": [],
   "source": [
    "def build_model(input_shape, optimizer='adam'):\n",
    "    inputs = layers.Input(shape=input_shape)\n",
    "    h = layers.Conv2D(64, kernel_size=(3, 3), activation='relu', strides=1, padding='same')(inputs)\n",
    "    h = layers.Conv2D(128, kernel_size=(3, 3), activation='relu', strides=2, padding='same')(h)\n",
    "    h = layers.Conv2D(256, kernel_size=(3, 3), activation='relu', strides=2, padding='same')(h)\n",
    "    h = layers.Conv2D(256, kernel_size=(3, 3), activation='relu', strides=2, padding='same')(h)\n",
    "    h = layers.Flatten()(h)\n",
    "    h = layers.Dense(256, activation='relu')(h)\n",
    "    outputs = layers.Dense(1, activation='sigmoid')(h)\n",
    "    model = models.Model(inputs, outputs, 'RPVClassifier')\n",
    "    model.compile(optimizer=optimizer,\n",
    "                  loss='binary_crossentropy',\n",
    "                  metrics=['accuracy'])\n",
    "    return model"
   ]
  },
  {
   "cell_type": "markdown",
   "metadata": {},
   "source": [
    "## Train the model"
   ]
  },
  {
   "cell_type": "code",
   "execution_count": 11,
   "metadata": {},
   "outputs": [],
   "source": [
    "# Model config\n",
    "\n",
    "# Training config\n",
    "batch_size = 256\n",
    "n_epochs = 5"
   ]
  },
  {
   "cell_type": "code",
   "execution_count": 12,
   "metadata": {},
   "outputs": [],
   "source": [
    "model = build_model(train_input.shape[1:])"
   ]
  },
  {
   "cell_type": "code",
   "execution_count": 13,
   "metadata": {},
   "outputs": [
    {
     "name": "stdout",
     "output_type": "stream",
     "text": [
      "_________________________________________________________________\n",
      "Layer (type)                 Output Shape              Param #   \n",
      "=================================================================\n",
      "input_1 (InputLayer)         (None, 64, 64, 1)         0         \n",
      "_________________________________________________________________\n",
      "conv2d_1 (Conv2D)            (None, 64, 64, 64)        640       \n",
      "_________________________________________________________________\n",
      "conv2d_2 (Conv2D)            (None, 32, 32, 128)       73856     \n",
      "_________________________________________________________________\n",
      "conv2d_3 (Conv2D)            (None, 16, 16, 256)       295168    \n",
      "_________________________________________________________________\n",
      "conv2d_4 (Conv2D)            (None, 8, 8, 256)         590080    \n",
      "_________________________________________________________________\n",
      "flatten_1 (Flatten)          (None, 16384)             0         \n",
      "_________________________________________________________________\n",
      "dense_1 (Dense)              (None, 256)               4194560   \n",
      "_________________________________________________________________\n",
      "dense_2 (Dense)              (None, 1)                 257       \n",
      "=================================================================\n",
      "Total params: 5,154,561\n",
      "Trainable params: 5,154,561\n",
      "Non-trainable params: 0\n",
      "_________________________________________________________________\n"
     ]
    }
   ],
   "source": [
    "model.summary()"
   ]
  },
  {
   "cell_type": "code",
   "execution_count": 14,
   "metadata": {},
   "outputs": [
    {
     "name": "stdout",
     "output_type": "stream",
     "text": [
      "Train on 65536 samples, validate on 16384 samples\n",
      "Epoch 1/5\n",
      "65536/65536 [==============================] - 2294s - loss: 22521.0120 - acc: 0.5714 - val_loss: 3503.3587 - val_acc: 0.5796\n",
      "Epoch 2/5\n",
      "65536/65536 [==============================] - 2219s - loss: 3570.8338 - acc: 0.5715 - val_loss: 3503.3587 - val_acc: 0.5796\n",
      "Epoch 3/5\n",
      "65536/65536 [==============================] - 2176s - loss: 3570.8338 - acc: 0.5715 - val_loss: 3503.3587 - val_acc: 0.5796\n",
      "Epoch 4/5\n",
      "65536/65536 [==============================] - 2189s - loss: 3570.8338 - acc: 0.5715 - val_loss: 3503.3587 - val_acc: 0.5796\n",
      "Epoch 5/5\n",
      "65536/65536 [==============================] - 2201s - loss: 3570.8338 - acc: 0.5715 - val_loss: 3503.3587 - val_acc: 0.5796\n"
     ]
    }
   ],
   "source": [
    "history = model.fit(train_input, train_labels,\n",
    "                    sample_weight=train_weights,\n",
    "                    batch_size=batch_size, epochs=n_epochs,\n",
    "                    validation_data=(valid_input, valid_labels, valid_weights))"
   ]
  },
  {
   "cell_type": "markdown",
   "metadata": {},
   "source": [
    "## Evaluate on the test set"
   ]
  },
  {
   "cell_type": "code",
   "execution_count": 17,
   "metadata": {},
   "outputs": [],
   "source": [
    "test_output = model.predict(test_input)"
   ]
  },
  {
   "cell_type": "code",
   "execution_count": null,
   "metadata": {},
   "outputs": [],
   "source": []
  }
 ],
 "metadata": {
  "kernelspec": {
   "display_name": "Python 3",
   "language": "python",
   "name": "debug180313"
  },
  "language_info": {
   "codemirror_mode": {
    "name": "ipython",
    "version": 3
   },
   "file_extension": ".py",
   "mimetype": "text/x-python",
   "name": "python",
   "nbconvert_exporter": "python",
   "pygments_lexer": "ipython3",
   "version": "3.6.1"
  }
 },
 "nbformat": 4,
 "nbformat_minor": 2
}
